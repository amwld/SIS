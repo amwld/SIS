{
  "nbformat": 4,
  "nbformat_minor": 0,
  "metadata": {
    "colab": {
      "name": "TC_BGRU_Final.ipynb",
      "provenance": []
    },
    "kernelspec": {
      "name": "python3",
      "display_name": "Python 3"
    },
    "accelerator": "GPU"
  },
  "cells": [
    {
      "cell_type": "markdown",
      "metadata": {
        "id": "nHVSJCaBNkHD",
        "colab_type": "text"
      },
      "source": [
        "# Bidirectional Gated Recurrent Unit  \n",
        "Amanda Maiwald, Martin Falli, Radoslav Evtimov"
      ]
    },
    {
      "cell_type": "markdown",
      "metadata": {
        "id": "HnyiJl46oluP",
        "colab_type": "text"
      },
      "source": [
        "## Import libraries, data and setup"
      ]
    },
    {
      "cell_type": "code",
      "metadata": {
        "id": "_VvEj3IkkewE",
        "colab_type": "code",
        "outputId": "d32900de-a353-4257-e771-2d21a6bfe488",
        "colab": {
          "base_uri": "https://localhost:8080/",
          "height": 82
        }
      },
      "source": [
        "import pandas as pd\n",
        "import numpy as np\n",
        "import seaborn as sns\n",
        "import matplotlib.pyplot as plt\n",
        "%matplotlib inline\n",
        "import sklearn\n",
        "from sklearn.metrics import f1_score \n",
        "\n",
        "from sklearn.model_selection import StratifiedKFold, cross_val_score, train_test_split, KFold\n",
        "import random\n",
        "\n",
        "from sklearn.model_selection import cross_validate\n",
        "from sklearn.metrics import roc_auc_score, average_precision_score, f1_score\n",
        "from sklearn.feature_extraction.text import TfidfVectorizer\n",
        "\n",
        "from keras.preprocessing import text, sequence\n",
        "from keras.layers import Embedding, SpatialDropout1D\n",
        "from keras.models import Model, Sequential\n",
        "from keras.layers import Dense, Embedding, Input\n",
        "from keras.optimizers import RMSprop\n",
        "import keras.backend as K\n",
        "from keras.layers import Dense, Input, GRU, LSTM, Bidirectional, Dropout, CuDNNLSTM, CuDNNGRU\n",
        "from sklearn.metrics import average_precision_score, roc_auc_score\n",
        "from sklearn.model_selection import StratifiedKFold"
      ],
      "execution_count": 0,
      "outputs": [
        {
          "output_type": "stream",
          "text": [
            "Using TensorFlow backend.\n"
          ],
          "name": "stderr"
        },
        {
          "output_type": "display_data",
          "data": {
            "text/html": [
              "<p style=\"color: red;\">\n",
              "The default version of TensorFlow in Colab will soon switch to TensorFlow 2.x.<br>\n",
              "We recommend you <a href=\"https://www.tensorflow.org/guide/migrate\" target=\"_blank\">upgrade</a> now \n",
              "or ensure your notebook will continue to use TensorFlow 1.x via the <code>%tensorflow_version 1.x</code> magic:\n",
              "<a href=\"https://colab.research.google.com/notebooks/tensorflow_version.ipynb\" target=\"_blank\">more info</a>.</p>\n"
            ],
            "text/plain": [
              "<IPython.core.display.HTML object>"
            ]
          },
          "metadata": {
            "tags": []
          }
        }
      ]
    },
    {
      "cell_type": "code",
      "metadata": {
        "id": "5dDamYWLzm4R",
        "colab_type": "code",
        "colab": {}
      },
      "source": [
        "# source https://github.com/QuantLet/AOBDL_code/blob/master/AOBDL_DL/separate_models/code_6_BGRU.ipynb"
      ],
      "execution_count": 0,
      "outputs": []
    },
    {
      "cell_type": "code",
      "metadata": {
        "id": "4Jd-73F0h7gI",
        "colab_type": "code",
        "outputId": "f851b66b-b291-4b45-b2cb-c3db9a737c5f",
        "colab": {
          "base_uri": "https://localhost:8080/",
          "height": 126
        }
      },
      "source": [
        "from google.colab import drive\n",
        "drive.mount('/content/drive')"
      ],
      "execution_count": 0,
      "outputs": [
        {
          "output_type": "stream",
          "text": [
            "Go to this URL in a browser: https://accounts.google.com/o/oauth2/auth?client_id=947318989803-6bn6qk8qdgf4n4g3pfee6491hc0brc4i.apps.googleusercontent.com&redirect_uri=urn%3aietf%3awg%3aoauth%3a2.0%3aoob&response_type=code&scope=email%20https%3a%2f%2fwww.googleapis.com%2fauth%2fdocs.test%20https%3a%2f%2fwww.googleapis.com%2fauth%2fdrive%20https%3a%2f%2fwww.googleapis.com%2fauth%2fdrive.photos.readonly%20https%3a%2f%2fwww.googleapis.com%2fauth%2fpeopleapi.readonly\n",
            "\n",
            "Enter your authorization code:\n",
            "··········\n",
            "Mounted at /content/drive\n"
          ],
          "name": "stdout"
        }
      ]
    },
    {
      "cell_type": "code",
      "metadata": {
        "id": "k40sKW0Ji8oN",
        "colab_type": "code",
        "colab": {}
      },
      "source": [
        "# Local directory structure\n",
        "base_dir = '/content/drive/My Drive/BERT/BERT_Code_Input_Output/'\n",
        "data_dir = base_dir + 'Data/'\n",
        "model_dir = base_dir + 'Model_Output_BGRU'"
      ],
      "execution_count": 0,
      "outputs": []
    },
    {
      "cell_type": "code",
      "metadata": {
        "id": "1J6yeN0zjP3_",
        "colab_type": "code",
        "colab": {}
      },
      "source": [
        "train = pd.read_csv(data_dir + 'train_cleaned_no_punkt.csv') "
      ],
      "execution_count": 0,
      "outputs": []
    },
    {
      "cell_type": "markdown",
      "metadata": {
        "id": "S6dJZvD0OxdQ",
        "colab_type": "text"
      },
      "source": [
        "## Data preparation"
      ]
    },
    {
      "cell_type": "code",
      "metadata": {
        "id": "bHxabLx3jUNM",
        "colab_type": "code",
        "colab": {}
      },
      "source": [
        "train['mal'] = train[['toxic', 'severe_toxic', 'obscene', 'threat', 'insult', 'identity_hate']].sum(axis=1) >= 1  \n",
        "train.drop(['toxic', 'severe_toxic', 'obscene', 'threat', 'insult', 'identity_hate'], axis=1, inplace=True)\n",
        "train.comment_text.fillna(\"empty\", inplace=True)"
      ],
      "execution_count": 0,
      "outputs": []
    },
    {
      "cell_type": "code",
      "metadata": {
        "id": "662kqECbMFqE",
        "colab_type": "code",
        "colab": {}
      },
      "source": [
        "from sklearn.model_selection import train_test_split\n",
        "rs=42"
      ],
      "execution_count": 0,
      "outputs": []
    },
    {
      "cell_type": "code",
      "metadata": {
        "id": "EJScfg7FZb8S",
        "colab_type": "code",
        "colab": {}
      },
      "source": [
        "train, test = train_test_split(train, test_size = 0.2, stratify = train.mal)"
      ],
      "execution_count": 0,
      "outputs": []
    },
    {
      "cell_type": "code",
      "metadata": {
        "id": "v1T_4ni7cLwL",
        "colab_type": "code",
        "outputId": "dccf0f0a-3354-4bb9-e6e4-9854f2bb6f3a",
        "colab": {
          "base_uri": "https://localhost:8080/",
          "height": 135
        }
      },
      "source": [
        "true_labels = test.iloc[:,2:4]\n",
        "y_test = true_labels\n",
        "true_labels.head(3)"
      ],
      "execution_count": 0,
      "outputs": [
        {
          "output_type": "execute_result",
          "data": {
            "text/html": [
              "<div>\n",
              "<style scoped>\n",
              "    .dataframe tbody tr th:only-of-type {\n",
              "        vertical-align: middle;\n",
              "    }\n",
              "\n",
              "    .dataframe tbody tr th {\n",
              "        vertical-align: top;\n",
              "    }\n",
              "\n",
              "    .dataframe thead th {\n",
              "        text-align: right;\n",
              "    }\n",
              "</style>\n",
              "<table border=\"1\" class=\"dataframe\">\n",
              "  <thead>\n",
              "    <tr style=\"text-align: right;\">\n",
              "      <th></th>\n",
              "      <th>mal</th>\n",
              "    </tr>\n",
              "  </thead>\n",
              "  <tbody>\n",
              "    <tr>\n",
              "      <th>89938</th>\n",
              "      <td>False</td>\n",
              "    </tr>\n",
              "    <tr>\n",
              "      <th>83878</th>\n",
              "      <td>False</td>\n",
              "    </tr>\n",
              "    <tr>\n",
              "      <th>144391</th>\n",
              "      <td>False</td>\n",
              "    </tr>\n",
              "  </tbody>\n",
              "</table>\n",
              "</div>"
            ],
            "text/plain": [
              "          mal\n",
              "89938   False\n",
              "83878   False\n",
              "144391  False"
            ]
          },
          "metadata": {
            "tags": []
          },
          "execution_count": 79
        }
      ]
    },
    {
      "cell_type": "code",
      "metadata": {
        "id": "IQ__3ZKPO1S1",
        "colab_type": "code",
        "outputId": "eb8551a0-c7bb-4c7e-88ee-7c621c2d4b47",
        "colab": {
          "base_uri": "https://localhost:8080/",
          "height": 135
        }
      },
      "source": [
        "test.drop(['mal'], axis=1, inplace=True) \n",
        "X_test= test.comment_text\n",
        "test.head(3)"
      ],
      "execution_count": 0,
      "outputs": [
        {
          "output_type": "execute_result",
          "data": {
            "text/html": [
              "<div>\n",
              "<style scoped>\n",
              "    .dataframe tbody tr th:only-of-type {\n",
              "        vertical-align: middle;\n",
              "    }\n",
              "\n",
              "    .dataframe tbody tr th {\n",
              "        vertical-align: top;\n",
              "    }\n",
              "\n",
              "    .dataframe thead th {\n",
              "        text-align: right;\n",
              "    }\n",
              "</style>\n",
              "<table border=\"1\" class=\"dataframe\">\n",
              "  <thead>\n",
              "    <tr style=\"text-align: right;\">\n",
              "      <th></th>\n",
              "      <th>id</th>\n",
              "      <th>comment_text</th>\n",
              "    </tr>\n",
              "  </thead>\n",
              "  <tbody>\n",
              "    <tr>\n",
              "      <th>89938</th>\n",
              "      <td>f098086336fa0bc8</td>\n",
              "      <td>happy haunts there actually about ish happy ha...</td>\n",
              "    </tr>\n",
              "    <tr>\n",
              "      <th>83878</th>\n",
              "      <td>e078062f230ba9a0</td>\n",
              "      <td>alexander or justin david alexander vincent or...</td>\n",
              "    </tr>\n",
              "    <tr>\n",
              "      <th>144391</th>\n",
              "      <td>0c50408ed7ca7bdd</td>\n",
              "      <td>there no rule agreement except common way to h...</td>\n",
              "    </tr>\n",
              "  </tbody>\n",
              "</table>\n",
              "</div>"
            ],
            "text/plain": [
              "                      id                                       comment_text\n",
              "89938   f098086336fa0bc8  happy haunts there actually about ish happy ha...\n",
              "83878   e078062f230ba9a0  alexander or justin david alexander vincent or...\n",
              "144391  0c50408ed7ca7bdd  there no rule agreement except common way to h..."
            ]
          },
          "metadata": {
            "tags": []
          },
          "execution_count": 81
        }
      ]
    },
    {
      "cell_type": "code",
      "metadata": {
        "colab_type": "code",
        "outputId": "8b71c0ce-746f-4202-f08d-e36d0161c0db",
        "id": "a2S3hl6q1CD-",
        "colab": {
          "base_uri": "https://localhost:8080/",
          "height": 135
        }
      },
      "source": [
        "y = train.iloc[:,2:3]\n",
        "y_train = y\n",
        "y.head(3)"
      ],
      "execution_count": 0,
      "outputs": [
        {
          "output_type": "execute_result",
          "data": {
            "text/html": [
              "<div>\n",
              "<style scoped>\n",
              "    .dataframe tbody tr th:only-of-type {\n",
              "        vertical-align: middle;\n",
              "    }\n",
              "\n",
              "    .dataframe tbody tr th {\n",
              "        vertical-align: top;\n",
              "    }\n",
              "\n",
              "    .dataframe thead th {\n",
              "        text-align: right;\n",
              "    }\n",
              "</style>\n",
              "<table border=\"1\" class=\"dataframe\">\n",
              "  <thead>\n",
              "    <tr style=\"text-align: right;\">\n",
              "      <th></th>\n",
              "      <th>mal</th>\n",
              "    </tr>\n",
              "  </thead>\n",
              "  <tbody>\n",
              "    <tr>\n",
              "      <th>264</th>\n",
              "      <td>False</td>\n",
              "    </tr>\n",
              "    <tr>\n",
              "      <th>20537</th>\n",
              "      <td>False</td>\n",
              "    </tr>\n",
              "    <tr>\n",
              "      <th>102615</th>\n",
              "      <td>False</td>\n",
              "    </tr>\n",
              "  </tbody>\n",
              "</table>\n",
              "</div>"
            ],
            "text/plain": [
              "          mal\n",
              "264     False\n",
              "20537   False\n",
              "102615  False"
            ]
          },
          "metadata": {
            "tags": []
          },
          "execution_count": 82
        }
      ]
    },
    {
      "cell_type": "code",
      "metadata": {
        "colab_type": "code",
        "outputId": "6eba7b6f-2779-4714-c360-8a2d05dde507",
        "id": "Nvh8nxl-1CEF",
        "colab": {
          "base_uri": "https://localhost:8080/",
          "height": 88
        }
      },
      "source": [
        "train.drop(['mal'], axis=1, inplace=True) \n",
        "X= train.comment_text\n",
        "X_train = X\n",
        "X.head(3)"
      ],
      "execution_count": 0,
      "outputs": [
        {
          "output_type": "execute_result",
          "data": {
            "text/plain": [
              "264       education please keep list colleges in pittsbu...\n",
              "20537     november utc dear rev michael s margolin bias ...\n",
              "102615    by way i like how you page completely rigged a...\n",
              "Name: comment_text, dtype: object"
            ]
          },
          "metadata": {
            "tags": []
          },
          "execution_count": 83
        }
      ]
    },
    {
      "cell_type": "markdown",
      "metadata": {
        "id": "iqw6y9JkPDqx",
        "colab_type": "text"
      },
      "source": [
        "Defining some important features of the model"
      ]
    },
    {
      "cell_type": "code",
      "metadata": {
        "id": "-bqzOaLSjgEM",
        "colab_type": "code",
        "colab": {}
      },
      "source": [
        "max_features = 40000\n",
        "maxlen = 128\n",
        "dropout_rate = 0\n",
        "rs = 42\n",
        "epochs = 4\n",
        "batch_size = 250\n",
        "embed_dim = 50\n",
        "rec_units = 150"
      ],
      "execution_count": 0,
      "outputs": []
    },
    {
      "cell_type": "markdown",
      "metadata": {
        "id": "P2BuTAXePJ4P",
        "colab_type": "text"
      },
      "source": [
        "#### Creating the model and running the training process"
      ]
    },
    {
      "cell_type": "code",
      "metadata": {
        "id": "JDueQ_RejgRt",
        "colab_type": "code",
        "colab": {}
      },
      "source": [
        "def gru_keras(max_features, maxlen, dropout_rate, embed_dim, rec_units):\n",
        "    if K.backend == 'tensorflow':        \n",
        "        K.clear_session()\n",
        "    input_layer = Input(shape=(maxlen,))\n",
        "    embedding_layer = Embedding(max_features, output_dim=embed_dim, trainable=True)(input_layer)\n",
        "    x = SpatialDropout1D(dropout_rate)(embedding_layer)\n",
        "    x = Bidirectional(CuDNNGRU(units=rec_units, return_sequences=False))(x)\n",
        "    output_layer = Dense(1, activation=\"sigmoid\")(x)\n",
        "    model = Model(inputs=input_layer, outputs=output_layer)\n",
        "    model.compile(loss='binary_crossentropy',\n",
        "                  optimizer=RMSprop(clipvalue=1, clipnorm=1),\n",
        "                  metrics=['acc'])\n",
        "    print( model.summary())\n",
        "    return model"
      ],
      "execution_count": 0,
      "outputs": []
    },
    {
      "cell_type": "code",
      "metadata": {
        "id": "j3elj-3Pk_S8",
        "colab_type": "code",
        "outputId": "7c94e2ec-ae5e-4bc6-cb68-e0374162bfa7",
        "colab": {
          "base_uri": "https://localhost:8080/",
          "height": 532
        }
      },
      "source": [
        "K.clear_session()\n",
        "#X_train = X\n",
        "#y_train = y\n",
        "\n",
        "tokenizer = text.Tokenizer(num_words=max_features, oov_token='unknown')\n",
        "tokenizer.fit_on_texts(X_train)\n",
        "\n",
        "list_tokenized_train = tokenizer.texts_to_sequences(X_train)\n",
        "list_tokenized_test  = tokenizer.texts_to_sequences(X_test)\n",
        "X_train = sequence.pad_sequences(list_tokenized_train, maxlen=maxlen)\n",
        "X_test = sequence.pad_sequences(list_tokenized_test, maxlen=maxlen)\n",
        "\n",
        "model = gru_keras(max_features, maxlen, dropout_rate, embed_dim, rec_units)\n",
        "\n",
        "y_train = np.array(y_train)\n",
        "y_test = np.array(y_test)\n",
        "\n",
        "print('Fitting')\n",
        "history = model.fit(X_train, y_train, batch_size=batch_size, epochs=epochs, shuffle=True, verbose=1)\n",
        "model.save_weights(f'{model_dir}/BGRU.h5')\n",
        "probs = model.predict(X_test, batch_size=batch_size, verbose=1)\n",
        "auc_f = average_precision_score(y_test, probs)\n",
        "roc_f = roc_auc_score(y_test, probs)"
      ],
      "execution_count": 0,
      "outputs": [
        {
          "output_type": "stream",
          "text": [
            "Model: \"model_1\"\n",
            "_________________________________________________________________\n",
            "Layer (type)                 Output Shape              Param #   \n",
            "=================================================================\n",
            "input_1 (InputLayer)         (None, 128)               0         \n",
            "_________________________________________________________________\n",
            "embedding_1 (Embedding)      (None, 128, 50)           2000000   \n",
            "_________________________________________________________________\n",
            "spatial_dropout1d_1 (Spatial (None, 128, 50)           0         \n",
            "_________________________________________________________________\n",
            "bidirectional_1 (Bidirection (None, 300)               181800    \n",
            "_________________________________________________________________\n",
            "dense_1 (Dense)              (None, 1)                 301       \n",
            "=================================================================\n",
            "Total params: 2,182,101\n",
            "Trainable params: 2,182,101\n",
            "Non-trainable params: 0\n",
            "_________________________________________________________________\n",
            "None\n",
            "Fitting\n",
            "Epoch 1/4\n",
            "127656/127656 [==============================] - 16s 124us/step - loss: 0.1641 - acc: 0.9460\n",
            "Epoch 2/4\n",
            "127656/127656 [==============================] - 15s 120us/step - loss: 0.1028 - acc: 0.9631\n",
            "Epoch 3/4\n",
            "127656/127656 [==============================] - 16s 122us/step - loss: 0.0904 - acc: 0.9666\n",
            "Epoch 4/4\n",
            "127656/127656 [==============================] - 16s 122us/step - loss: 0.0850 - acc: 0.9683\n",
            "31915/31915 [==============================] - 1s 42us/step\n"
          ],
          "name": "stdout"
        }
      ]
    },
    {
      "cell_type": "markdown",
      "metadata": {
        "id": "x9CeCBYAPPdu",
        "colab_type": "text"
      },
      "source": [
        "####Evaluation of results on test data "
      ]
    },
    {
      "cell_type": "code",
      "metadata": {
        "id": "L87zI3tND_lg",
        "colab_type": "code",
        "colab": {}
      },
      "source": [
        "probs_class = probs.copy()\n",
        "probs_class=pd.DataFrame(probs_class)"
      ],
      "execution_count": 0,
      "outputs": []
    },
    {
      "cell_type": "code",
      "metadata": {
        "id": "rwLOZ2M2DtdV",
        "colab_type": "code",
        "colab": {}
      },
      "source": [
        "probs_class = np.where(probs_class.iloc[:,0] >= 0.3, 1, 0)"
      ],
      "execution_count": 0,
      "outputs": []
    },
    {
      "cell_type": "code",
      "metadata": {
        "id": "hkVzO3WylDKm",
        "colab_type": "code",
        "outputId": "01eb2115-e340-44cc-ec02-32f733be171d",
        "colab": {
          "base_uri": "https://localhost:8080/",
          "height": 70
        }
      },
      "source": [
        "print(\"AUC PR:\",round(roc_f, 4))\n",
        "print (\"AUC ROC:\",round(auc_f, 4) )\n",
        "print(\"F1 Score:\", round(sklearn.metrics.f1_score (y_test, probs_class),4))"
      ],
      "execution_count": 0,
      "outputs": [
        {
          "output_type": "stream",
          "text": [
            "AUC PR: 0.9794\n",
            "AUC ROC: 0.9001\n",
            "F1 Score: 0.8138\n"
          ],
          "name": "stdout"
        }
      ]
    },
    {
      "cell_type": "code",
      "metadata": {
        "id": "RWNb5LJIk3Y1",
        "colab_type": "code",
        "colab": {}
      },
      "source": [
        "history_df = pd.DataFrame({'acc':history.history['acc'],\n",
        "                    'loss': history.history['loss']#,\n",
        "                    #'val_acc': history.history['val_acc'],\n",
        "                    #'val_loss': history.history['val_loss']\n",
        "                    })"
      ],
      "execution_count": 0,
      "outputs": []
    },
    {
      "cell_type": "code",
      "metadata": {
        "id": "E2dzkyZ_sfDn",
        "colab_type": "code",
        "outputId": "04d5a9a5-7bcd-4cfa-bc83-b0e38e8d0956",
        "colab": {
          "base_uri": "https://localhost:8080/",
          "height": 164
        }
      },
      "source": [
        "history_df"
      ],
      "execution_count": 0,
      "outputs": [
        {
          "output_type": "execute_result",
          "data": {
            "text/html": [
              "<div>\n",
              "<style scoped>\n",
              "    .dataframe tbody tr th:only-of-type {\n",
              "        vertical-align: middle;\n",
              "    }\n",
              "\n",
              "    .dataframe tbody tr th {\n",
              "        vertical-align: top;\n",
              "    }\n",
              "\n",
              "    .dataframe thead th {\n",
              "        text-align: right;\n",
              "    }\n",
              "</style>\n",
              "<table border=\"1\" class=\"dataframe\">\n",
              "  <thead>\n",
              "    <tr style=\"text-align: right;\">\n",
              "      <th></th>\n",
              "      <th>acc</th>\n",
              "      <th>loss</th>\n",
              "    </tr>\n",
              "  </thead>\n",
              "  <tbody>\n",
              "    <tr>\n",
              "      <th>0</th>\n",
              "      <td>0.946019</td>\n",
              "      <td>0.164124</td>\n",
              "    </tr>\n",
              "    <tr>\n",
              "      <th>1</th>\n",
              "      <td>0.963088</td>\n",
              "      <td>0.102813</td>\n",
              "    </tr>\n",
              "    <tr>\n",
              "      <th>2</th>\n",
              "      <td>0.966629</td>\n",
              "      <td>0.090390</td>\n",
              "    </tr>\n",
              "    <tr>\n",
              "      <th>3</th>\n",
              "      <td>0.968290</td>\n",
              "      <td>0.085025</td>\n",
              "    </tr>\n",
              "  </tbody>\n",
              "</table>\n",
              "</div>"
            ],
            "text/plain": [
              "        acc      loss\n",
              "0  0.946019  0.164124\n",
              "1  0.963088  0.102813\n",
              "2  0.966629  0.090390\n",
              "3  0.968290  0.085025"
            ]
          },
          "metadata": {
            "tags": []
          },
          "execution_count": 91
        }
      ]
    },
    {
      "cell_type": "markdown",
      "metadata": {
        "id": "zpOpRozBPk_b",
        "colab_type": "text"
      },
      "source": [
        "####Saving the results"
      ]
    },
    {
      "cell_type": "code",
      "metadata": {
        "id": "V_kxdPMznqPa",
        "colab_type": "code",
        "colab": {}
      },
      "source": [
        "# save to csv: \n",
        "#filename = 'BGRU_history.csv'\n",
        "#with open(filename, mode='w') as f:\n",
        "    #history_df.to_csv(model_dir + '/' + filename)\n"
      ],
      "execution_count": 0,
      "outputs": []
    }
  ]
}
